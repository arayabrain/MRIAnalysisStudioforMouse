{
 "cells": [
  {
   "attachments": {},
   "cell_type": "markdown",
   "metadata": {},
   "source": [
    "Initialize app with `firebase_config.json`, `firebase_private.json` file"
   ]
  },
  {
   "cell_type": "code",
   "execution_count": 33,
   "metadata": {},
   "outputs": [],
   "source": [
    "import firebase_admin\n",
    "from firebase_admin import credentials, initialize_app, auth, exceptions\n",
    "\n",
    "if not firebase_admin._apps:\n",
    "    credential = credentials.Certificate('../../firebase_private.json')\n",
    "    initialize_app(credential)"
   ]
  },
  {
   "cell_type": "code",
   "execution_count": 34,
   "metadata": {},
   "outputs": [],
   "source": [
    "import pyrebase, json\n",
    "\n",
    "pb = pyrebase.initialize_app(json.load(open('../../firebase_config.json')))"
   ]
  },
  {
   "attachments": {},
   "cell_type": "markdown",
   "metadata": {},
   "source": [
    "### Create a user\n",
    "By default, Firebase Authentication will generate a random uid for the new user. If you instead want to specify your own uid for the new user, you can include it as an argument passed to the user creation method, it must be a string between 1-128 characters long."
   ]
  },
  {
   "cell_type": "code",
   "execution_count": 35,
   "metadata": {},
   "outputs": [
    {
     "data": {
      "text/plain": [
       "{'_data': {'localId': 'Hjwx99OtZwdKDq0yJie6Ys0nKpg2',\n",
       "  'email': 'f163d45b667c4f46@example.com',\n",
       "  'passwordHash': 'UkVEQUNURUQ=',\n",
       "  'emailVerified': False,\n",
       "  'passwordUpdatedAt': 1681879375110,\n",
       "  'providerUserInfo': [{'providerId': 'password',\n",
       "    'federatedId': 'f163d45b667c4f46@example.com',\n",
       "    'email': 'f163d45b667c4f46@example.com',\n",
       "    'rawId': 'f163d45b667c4f46@example.com'}],\n",
       "  'validSince': '1681879375',\n",
       "  'disabled': False,\n",
       "  'createdAt': '1681879375110'}}"
      ]
     },
     "execution_count": 35,
     "metadata": {},
     "output_type": "execute_result"
    }
   ],
   "source": [
    "user_data = {\n",
    "    'email': 'f163d45b667c4f46@example.com',\n",
    "    'password': 'f163d45b667c4f46'\n",
    "}\n",
    "try:\n",
    "    new_user = auth.create_user(**user_data)\n",
    "except exceptions.FirebaseError as exc:\n",
    "    if exc.code == 'ALREADY_EXISTS':\n",
    "        user = auth.get_user_by_email(user_data['email'])\n",
    "        new_user = auth.update_user(uid=user.uid, **user_data)\n",
    "\n",
    "auth.set_custom_user_claims(new_user.uid, {'role':'MANAGER', 'lab': None})\n",
    "\n",
    "new_user.__dict__"
   ]
  },
  {
   "attachments": {},
   "cell_type": "markdown",
   "metadata": {},
   "source": [
    "### Verify ID tokens"
   ]
  },
  {
   "cell_type": "code",
   "execution_count": 36,
   "metadata": {},
   "outputs": [
    {
     "name": "stdout",
     "output_type": "stream",
     "text": [
      "{'role': 'MANAGER', 'lab': None, 'iss': 'https://securetoken.google.com/mrianalysisstudioformouse', 'aud': 'mrianalysisstudioformouse', 'auth_time': 1681879376, 'user_id': 'Hjwx99OtZwdKDq0yJie6Ys0nKpg2', 'sub': 'Hjwx99OtZwdKDq0yJie6Ys0nKpg2', 'iat': 1681879376, 'exp': 1681882976, 'email': 'f163d45b667c4f46@example.com', 'email_verified': False, 'firebase': {'identities': {'email': ['f163d45b667c4f46@example.com']}, 'sign_in_provider': 'password'}, 'uid': 'Hjwx99OtZwdKDq0yJie6Ys0nKpg2'}\n"
     ]
    }
   ],
   "source": [
    "# Sign in with email and password to retrive ID tokens\n",
    "res = pb.auth().sign_in_with_email_and_password(**user_data)\n",
    "\n",
    "decoded_token = auth.verify_id_token(res['idToken'])\n",
    "print(decoded_token)"
   ]
  },
  {
   "attachments": {},
   "cell_type": "markdown",
   "metadata": {},
   "source": [
    "### Retrieve user data\n",
    "The primary way to identify a user is by their uid. The Firebase Admin SDK also supports looking up user information with phone number and email."
   ]
  },
  {
   "cell_type": "code",
   "execution_count": 37,
   "metadata": {},
   "outputs": [
    {
     "name": "stdout",
     "output_type": "stream",
     "text": [
      "Display name: None\n",
      "Email: f163d45b667c4f46@example.com\n",
      "User ID: Hjwx99OtZwdKDq0yJie6Ys0nKpg2\n",
      "Role: MANAGER\n",
      "Lab: None\n"
     ]
    }
   ],
   "source": [
    "user = auth.get_user(new_user.uid)\n",
    "user = auth.get_user_by_email(new_user.email)\n",
    "\n",
    "print('Display name:', user.display_name)\n",
    "print('Email:', user.email)\n",
    "print('User ID:', user.uid)\n",
    "print('Role:', user.custom_claims.get('role'))\n",
    "print('Lab:', user.custom_claims.get('lab'))"
   ]
  },
  {
   "attachments": {},
   "cell_type": "markdown",
   "metadata": {},
   "source": [
    "### List all users"
   ]
  },
  {
   "cell_type": "code",
   "execution_count": 38,
   "metadata": {},
   "outputs": [
    {
     "name": "stdout",
     "output_type": "stream",
     "text": [
      "User: 890zFbqtC3OkJuFvUaMqbNM0Q2I3\n",
      "User: BfnOj9buPQaxx1ElsZpFe5jE6bV2\n",
      "User: HAnY63BeqyQqjvun4BuYcjdl80A3\n",
      "User: Hjwx99OtZwdKDq0yJie6Ys0nKpg2\n",
      "User: OLqrg5fD4HYPoWpO7j04ePAQqda2\n"
     ]
    }
   ],
   "source": [
    "\n",
    "page = auth.list_users()\n",
    "for user in auth.list_users(max_results=5).users:\n",
    "    print('User: ' + user.uid)"
   ]
  },
  {
   "attachments": {},
   "cell_type": "markdown",
   "metadata": {},
   "source": [
    "### Update a user\n",
    "You need to specify a uid along with the properties to update for that user"
   ]
  },
  {
   "cell_type": "code",
   "execution_count": 39,
   "metadata": {},
   "outputs": [
    {
     "data": {
      "text/plain": [
       "{'_data': {'localId': 'Hjwx99OtZwdKDq0yJie6Ys0nKpg2',\n",
       "  'email': 'f163d45b667c4f46@example.com',\n",
       "  'displayName': 'Name update',\n",
       "  'passwordHash': 'UkVEQUNURUQ=',\n",
       "  'emailVerified': False,\n",
       "  'passwordUpdatedAt': 1681879375110,\n",
       "  'providerUserInfo': [{'providerId': 'password',\n",
       "    'displayName': 'Name update',\n",
       "    'federatedId': 'f163d45b667c4f46@example.com',\n",
       "    'email': 'f163d45b667c4f46@example.com',\n",
       "    'rawId': 'f163d45b667c4f46@example.com'}],\n",
       "  'validSince': '1681879375',\n",
       "  'disabled': False,\n",
       "  'lastLoginAt': '1681879376519',\n",
       "  'createdAt': '1681879375110',\n",
       "  'customAttributes': '{\"role\": \"MANAGER\", \"lab\": null}',\n",
       "  'lastRefreshAt': '2023-04-19T04:42:56.519Z'}}"
      ]
     },
     "execution_count": 39,
     "metadata": {},
     "output_type": "execute_result"
    }
   ],
   "source": [
    "new_user_data = {'display_name': 'Name update'}\n",
    "user = auth.update_user(new_user.uid, **new_user_data)\n",
    "user.__dict__"
   ]
  },
  {
   "attachments": {},
   "cell_type": "markdown",
   "metadata": {},
   "source": [
    "### Set and validate custom user claims\n",
    "Custom claims can contain sensitive data, therefore they should only be set from a privileged server environment by the Firebase Admin SDK."
   ]
  },
  {
   "cell_type": "code",
   "execution_count": 40,
   "metadata": {},
   "outputs": [
    {
     "name": "stdout",
     "output_type": "stream",
     "text": [
      "Role: ADMIN\n",
      "Lab: Lab test\n",
      "User Hjwx99OtZwdKDq0yJie6Ys0nKpg2 can access to admin resource\n"
     ]
    }
   ],
   "source": [
    "user_claims = {'role': 'ADMIN', 'lab': 'Lab test'}\n",
    "auth.set_custom_user_claims(new_user.uid, user_claims)\n",
    "\n",
    "\n",
    "user = auth.get_user(new_user.uid)\n",
    "print('Role:', user.custom_claims.get('role'))\n",
    "print('Lab:', user.custom_claims.get('lab'))\n",
    "# Check user role\n",
    "if user.custom_claims.get(\"role\") == 'ADMIN':\n",
    "    print(f'User {new_user.uid} can access to admin resource')"
   ]
  },
  {
   "attachments": {},
   "cell_type": "markdown",
   "metadata": {},
   "source": [
    "### Delete a user"
   ]
  },
  {
   "cell_type": "code",
   "execution_count": 41,
   "metadata": {},
   "outputs": [
    {
     "name": "stdout",
     "output_type": "stream",
     "text": [
      "Successfully deleted user\n"
     ]
    }
   ],
   "source": [
    "auth.delete_user(new_user.uid)\n",
    "print('Successfully deleted user')"
   ]
  }
 ],
 "metadata": {
  "kernelspec": {
   "display_name": "optinist-mri",
   "language": "python",
   "name": "python3"
  },
  "language_info": {
   "codemirror_mode": {
    "name": "ipython",
    "version": 3
   },
   "file_extension": ".py",
   "mimetype": "text/x-python",
   "name": "python",
   "nbconvert_exporter": "python",
   "pygments_lexer": "ipython3",
   "version": "3.8.16"
  },
  "orig_nbformat": 4
 },
 "nbformat": 4,
 "nbformat_minor": 2
}
